{
  "nbformat": 4,
  "nbformat_minor": 0,
  "metadata": {
    "colab": {
      "provenance": [],
      "authorship_tag": "ABX9TyMA5rufo5Lga8vSRiRQta4h",
      "include_colab_link": true
    },
    "kernelspec": {
      "name": "python3",
      "display_name": "Python 3"
    },
    "language_info": {
      "name": "python"
    }
  },
  "cells": [
    {
      "cell_type": "markdown",
      "metadata": {
        "id": "view-in-github",
        "colab_type": "text"
      },
      "source": [
        "<a href=\"https://colab.research.google.com/github/holera2008/hw25/blob/main/hw25.ipynb\" target=\"_parent\"><img src=\"https://colab.research.google.com/assets/colab-badge.svg\" alt=\"Open In Colab\"/></a>"
      ]
    },
    {
      "cell_type": "code",
      "execution_count": 1,
      "metadata": {
        "colab": {
          "base_uri": "https://localhost:8080/"
        },
        "id": "CRmTXCGh6uXa",
        "outputId": "4a411ec7-d36a-42de-85b8-f955097a5fd4"
      },
      "outputs": [
        {
          "output_type": "stream",
          "name": "stdout",
          "text": [
            "Meow\n"
          ]
        }
      ],
      "source": [
        "class Animal:\n",
        "    def __init__(self, nickname, weight):\n",
        "        self.nickname = nickname\n",
        "        self.weight = weight\n",
        "\n",
        "    def say(self):\n",
        "        pass\n",
        "\n",
        "    def change_weight(self, weight):\n",
        "        self.weight = weight\n",
        "\n",
        "\n",
        "class Cat(Animal):\n",
        "    def say(self):\n",
        "        return \"Meow\"\n",
        "\n",
        "\n",
        "class CatDog():\n",
        "    def __init__(self, nickname, weight):\n",
        "        self.cat = Cat(nickname, weight)\n",
        "\n",
        "    def say(self):\n",
        "        return self.cat.say()\n",
        "\n",
        "\n",
        "cat_dog = CatDog('chihua', 666)\n",
        "print(cat_dog.say())"
      ]
    }
  ]
}